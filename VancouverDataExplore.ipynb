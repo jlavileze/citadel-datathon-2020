{
 "cells": [
  {
   "cell_type": "code",
   "execution_count": 19,
   "metadata": {},
   "outputs": [],
   "source": [
    "import pandas as pd\n",
    "import numpy as np\n",
    "import matplotlib.pyplot as plt\n",
    "import os"
   ]
  },
  {
   "cell_type": "markdown",
   "metadata": {},
   "source": [
    "**Region Codes Legend**"
   ]
  },
  {
   "cell_type": "code",
   "execution_count": 52,
   "metadata": {
    "scrolled": true
   },
   "outputs": [
    {
     "data": {
      "text/html": [
       "<div>\n",
       "<style scoped>\n",
       "    .dataframe tbody tr th:only-of-type {\n",
       "        vertical-align: middle;\n",
       "    }\n",
       "\n",
       "    .dataframe tbody tr th {\n",
       "        vertical-align: top;\n",
       "    }\n",
       "\n",
       "    .dataframe thead th {\n",
       "        text-align: right;\n",
       "    }\n",
       "</style>\n",
       "<table border=\"1\" class=\"dataframe\">\n",
       "  <thead>\n",
       "    <tr style=\"text-align: right;\">\n",
       "      <th></th>\n",
       "      <th>region_code</th>\n",
       "      <th>region_name</th>\n",
       "      <th>Composition</th>\n",
       "      <th>Description</th>\n",
       "    </tr>\n",
       "  </thead>\n",
       "  <tbody>\n",
       "    <tr>\n",
       "      <th>0</th>\n",
       "      <td>DR01</td>\n",
       "      <td>Vancouver Island/Coast</td>\n",
       "      <td>RD 17, 19, 21, 23, 25, 43, 45</td>\n",
       "      <td>NaN</td>\n",
       "    </tr>\n",
       "    <tr>\n",
       "      <th>1</th>\n",
       "      <td>DR02</td>\n",
       "      <td>Mainland/Southwest</td>\n",
       "      <td>RD 09, 15, 29, 31</td>\n",
       "      <td>NaN</td>\n",
       "    </tr>\n",
       "    <tr>\n",
       "      <th>2</th>\n",
       "      <td>DR03</td>\n",
       "      <td>Thompson/Okanagan</td>\n",
       "      <td>RD 07, 33, 35, 37, 39</td>\n",
       "      <td>NaN</td>\n",
       "    </tr>\n",
       "    <tr>\n",
       "      <th>3</th>\n",
       "      <td>DR04</td>\n",
       "      <td>Kootenay</td>\n",
       "      <td>RD 01, 03, 05</td>\n",
       "      <td>NaN</td>\n",
       "    </tr>\n",
       "    <tr>\n",
       "      <th>4</th>\n",
       "      <td>DR05</td>\n",
       "      <td>Cariboo</td>\n",
       "      <td>RD 41, 53</td>\n",
       "      <td>NaN</td>\n",
       "    </tr>\n",
       "  </tbody>\n",
       "</table>\n",
       "</div>"
      ],
      "text/plain": [
       "  region_code             region_name                    Composition  \\\n",
       "0        DR01  Vancouver Island/Coast  RD 17, 19, 21, 23, 25, 43, 45   \n",
       "1        DR02      Mainland/Southwest              RD 09, 15, 29, 31   \n",
       "2        DR03       Thompson/Okanagan          RD 07, 33, 35, 37, 39   \n",
       "3        DR04                Kootenay                  RD 01, 03, 05   \n",
       "4        DR05                 Cariboo                      RD 41, 53   \n",
       "\n",
       "  Description  \n",
       "0         NaN  \n",
       "1         NaN  \n",
       "2         NaN  \n",
       "3         NaN  \n",
       "4         NaN  "
      ]
     },
     "execution_count": 52,
     "metadata": {},
     "output_type": "execute_result"
    }
   ],
   "source": [
    "region_codes = pd.read_csv('Data/region_codes.csv')\n",
    "region_codes.head()"
   ]
  },
  {
   "cell_type": "code",
   "execution_count": 166,
   "metadata": {},
   "outputs": [
    {
     "data": {
      "text/plain": [
       "74"
      ]
     },
     "execution_count": 166,
     "metadata": {},
     "output_type": "execute_result"
    }
   ],
   "source": [
    "region_codes['region_code'].nunique()"
   ]
  },
  {
   "cell_type": "markdown",
   "metadata": {},
   "source": [
    "**Employment By Industry Legend**"
   ]
  },
  {
   "cell_type": "code",
   "execution_count": 53,
   "metadata": {},
   "outputs": [
    {
     "data": {
      "text/html": [
       "<div>\n",
       "<style scoped>\n",
       "    .dataframe tbody tr th:only-of-type {\n",
       "        vertical-align: middle;\n",
       "    }\n",
       "\n",
       "    .dataframe tbody tr th {\n",
       "        vertical-align: top;\n",
       "    }\n",
       "\n",
       "    .dataframe thead th {\n",
       "        text-align: right;\n",
       "    }\n",
       "</style>\n",
       "<table border=\"1\" class=\"dataframe\">\n",
       "  <thead>\n",
       "    <tr style=\"text-align: right;\">\n",
       "      <th></th>\n",
       "      <th>industry_name</th>\n",
       "      <th>code</th>\n",
       "    </tr>\n",
       "  </thead>\n",
       "  <tbody>\n",
       "    <tr>\n",
       "      <th>0</th>\n",
       "      <td>All Industries</td>\n",
       "      <td>0</td>\n",
       "    </tr>\n",
       "    <tr>\n",
       "      <th>1</th>\n",
       "      <td>Goods-Producing Sector</td>\n",
       "      <td>11,21,22,23,31,32,33</td>\n",
       "    </tr>\n",
       "    <tr>\n",
       "      <th>2</th>\n",
       "      <td>Agriculture</td>\n",
       "      <td>1100 - 1129, 1151 - 1152</td>\n",
       "    </tr>\n",
       "    <tr>\n",
       "      <th>3</th>\n",
       "      <td>Crop Production</td>\n",
       "      <td>1111 - 1119</td>\n",
       "    </tr>\n",
       "    <tr>\n",
       "      <th>4</th>\n",
       "      <td>Animal Production</td>\n",
       "      <td>1121 - 1129</td>\n",
       "    </tr>\n",
       "  </tbody>\n",
       "</table>\n",
       "</div>"
      ],
      "text/plain": [
       "            industry_name                      code\n",
       "0          All Industries                         0\n",
       "1  Goods-Producing Sector      11,21,22,23,31,32,33\n",
       "2             Agriculture  1100 - 1129, 1151 - 1152\n",
       "3         Crop Production               1111 - 1119\n",
       "4       Animal Production               1121 - 1129"
      ]
     },
     "execution_count": 53,
     "metadata": {},
     "output_type": "execute_result"
    }
   ],
   "source": [
    "industry_legend = pd.read_csv('Data/vancouver_employment_by_industry_legend.csv')\n",
    "industry_legend.head()"
   ]
  },
  {
   "cell_type": "markdown",
   "metadata": {},
   "source": [
    "**Business Size**"
   ]
  },
  {
   "cell_type": "code",
   "execution_count": 56,
   "metadata": {},
   "outputs": [
    {
     "data": {
      "text/html": [
       "<div>\n",
       "<style scoped>\n",
       "    .dataframe tbody tr th:only-of-type {\n",
       "        vertical-align: middle;\n",
       "    }\n",
       "\n",
       "    .dataframe tbody tr th {\n",
       "        vertical-align: top;\n",
       "    }\n",
       "\n",
       "    .dataframe thead th {\n",
       "        text-align: right;\n",
       "    }\n",
       "</style>\n",
       "<table border=\"1\" class=\"dataframe\">\n",
       "  <thead>\n",
       "    <tr style=\"text-align: right;\">\n",
       "      <th></th>\n",
       "      <th>year</th>\n",
       "      <th>region_code</th>\n",
       "      <th>business_type</th>\n",
       "      <th>unknown</th>\n",
       "      <th>one_to_4</th>\n",
       "      <th>five_to_9</th>\n",
       "      <th>ten_to_19</th>\n",
       "      <th>twenty_to_49</th>\n",
       "      <th>fifty_to_199</th>\n",
       "      <th>two_hundred_plus</th>\n",
       "    </tr>\n",
       "  </thead>\n",
       "  <tbody>\n",
       "    <tr>\n",
       "      <th>0</th>\n",
       "      <td>1999</td>\n",
       "      <td>DR01</td>\n",
       "      <td>Agric., Forestry, Fishing &amp; Hunt</td>\n",
       "      <td>1,227</td>\n",
       "      <td>954</td>\n",
       "      <td>219</td>\n",
       "      <td>142</td>\n",
       "      <td>99</td>\n",
       "      <td>44.0</td>\n",
       "      <td>7.0</td>\n",
       "    </tr>\n",
       "    <tr>\n",
       "      <th>1</th>\n",
       "      <td>1999</td>\n",
       "      <td>DR01</td>\n",
       "      <td>Mining &amp; Oil &amp; Gas Extract.</td>\n",
       "      <td>59</td>\n",
       "      <td>40</td>\n",
       "      <td>7</td>\n",
       "      <td>3</td>\n",
       "      <td>0</td>\n",
       "      <td>4.0</td>\n",
       "      <td>1.0</td>\n",
       "    </tr>\n",
       "    <tr>\n",
       "      <th>2</th>\n",
       "      <td>1999</td>\n",
       "      <td>DR01</td>\n",
       "      <td>Utilities</td>\n",
       "      <td>13</td>\n",
       "      <td>7</td>\n",
       "      <td>4</td>\n",
       "      <td>4</td>\n",
       "      <td>2</td>\n",
       "      <td>3.0</td>\n",
       "      <td>1.0</td>\n",
       "    </tr>\n",
       "    <tr>\n",
       "      <th>3</th>\n",
       "      <td>1999</td>\n",
       "      <td>DR01</td>\n",
       "      <td>Construction</td>\n",
       "      <td>3,820</td>\n",
       "      <td>2,046</td>\n",
       "      <td>468</td>\n",
       "      <td>307</td>\n",
       "      <td>154</td>\n",
       "      <td>34.0</td>\n",
       "      <td>1.0</td>\n",
       "    </tr>\n",
       "    <tr>\n",
       "      <th>4</th>\n",
       "      <td>1999</td>\n",
       "      <td>DR01</td>\n",
       "      <td>Manufacturing</td>\n",
       "      <td>768</td>\n",
       "      <td>701</td>\n",
       "      <td>181</td>\n",
       "      <td>150</td>\n",
       "      <td>114</td>\n",
       "      <td>54.0</td>\n",
       "      <td>14.0</td>\n",
       "    </tr>\n",
       "  </tbody>\n",
       "</table>\n",
       "</div>"
      ],
      "text/plain": [
       "   year region_code                     business_type unknown one_to_4  \\\n",
       "0  1999        DR01  Agric., Forestry, Fishing & Hunt   1,227      954   \n",
       "1  1999        DR01       Mining & Oil & Gas Extract.      59       40   \n",
       "2  1999        DR01                         Utilities      13        7   \n",
       "3  1999        DR01                      Construction   3,820    2,046   \n",
       "4  1999        DR01                     Manufacturing     768      701   \n",
       "\n",
       "  five_to_9 ten_to_19 twenty_to_49  fifty_to_199  two_hundred_plus  \n",
       "0       219       142           99          44.0               7.0  \n",
       "1         7         3            0           4.0               1.0  \n",
       "2         4         4            2           3.0               1.0  \n",
       "3       468       307          154          34.0               1.0  \n",
       "4       181       150          114          54.0              14.0  "
      ]
     },
     "execution_count": 56,
     "metadata": {},
     "output_type": "execute_result"
    }
   ],
   "source": [
    "business_size = pd.read_csv('Data/vancouver_business_size.csv')\n",
    "business_size = business_size.fillna(0)\n",
    "business_size.head()"
   ]
  },
  {
   "cell_type": "markdown",
   "metadata": {},
   "source": [
    "**Employment By Industry**"
   ]
  },
  {
   "cell_type": "code",
   "execution_count": 122,
   "metadata": {},
   "outputs": [
    {
     "data": {
      "text/html": [
       "<div>\n",
       "<style scoped>\n",
       "    .dataframe tbody tr th:only-of-type {\n",
       "        vertical-align: middle;\n",
       "    }\n",
       "\n",
       "    .dataframe tbody tr th {\n",
       "        vertical-align: top;\n",
       "    }\n",
       "\n",
       "    .dataframe thead th {\n",
       "        text-align: right;\n",
       "    }\n",
       "</style>\n",
       "<table border=\"1\" class=\"dataframe\">\n",
       "  <thead>\n",
       "    <tr style=\"text-align: right;\">\n",
       "      <th></th>\n",
       "      <th>year</th>\n",
       "      <th>industry_code</th>\n",
       "      <th>value</th>\n",
       "    </tr>\n",
       "  </thead>\n",
       "  <tbody>\n",
       "    <tr>\n",
       "      <th>0</th>\n",
       "      <td>1987</td>\n",
       "      <td>0</td>\n",
       "      <td>1377700.0</td>\n",
       "    </tr>\n",
       "    <tr>\n",
       "      <th>1</th>\n",
       "      <td>1987</td>\n",
       "      <td>11,21,22,23,31,32,33</td>\n",
       "      <td>333800.0</td>\n",
       "    </tr>\n",
       "    <tr>\n",
       "      <th>2</th>\n",
       "      <td>1987</td>\n",
       "      <td>1100  1129, 1151  1152</td>\n",
       "      <td>31700.0</td>\n",
       "    </tr>\n",
       "    <tr>\n",
       "      <th>3</th>\n",
       "      <td>1987</td>\n",
       "      <td>1111  1119</td>\n",
       "      <td>15500.0</td>\n",
       "    </tr>\n",
       "    <tr>\n",
       "      <th>4</th>\n",
       "      <td>1987</td>\n",
       "      <td>1121  1129</td>\n",
       "      <td>14100.0</td>\n",
       "    </tr>\n",
       "    <tr>\n",
       "      <th>5</th>\n",
       "      <td>1987</td>\n",
       "      <td>1100</td>\n",
       "      <td>1600.0</td>\n",
       "    </tr>\n",
       "    <tr>\n",
       "      <th>6</th>\n",
       "      <td>1987</td>\n",
       "      <td>1151  1152</td>\n",
       "      <td>NaN</td>\n",
       "    </tr>\n",
       "    <tr>\n",
       "      <th>7</th>\n",
       "      <td>1987</td>\n",
       "      <td>1131  1142, 1153, 2100  2131</td>\n",
       "      <td>49500.0</td>\n",
       "    </tr>\n",
       "    <tr>\n",
       "      <th>8</th>\n",
       "      <td>1987</td>\n",
       "      <td>1131  1133, 1153</td>\n",
       "      <td>24000.0</td>\n",
       "    </tr>\n",
       "    <tr>\n",
       "      <th>9</th>\n",
       "      <td>1987</td>\n",
       "      <td>1141  1142</td>\n",
       "      <td>6100.0</td>\n",
       "    </tr>\n",
       "  </tbody>\n",
       "</table>\n",
       "</div>"
      ],
      "text/plain": [
       "   year                 industry_code      value\n",
       "0  1987                             0  1377700.0\n",
       "1  1987          11,21,22,23,31,32,33   333800.0\n",
       "2  1987        1100  1129, 1151  1152    31700.0\n",
       "3  1987                    1111  1119    15500.0\n",
       "4  1987                    1121  1129    14100.0\n",
       "5  1987                          1100     1600.0\n",
       "6  1987                    1151  1152        NaN\n",
       "7  1987  1131  1142, 1153, 2100  2131    49500.0\n",
       "8  1987              1131  1133, 1153    24000.0\n",
       "9  1987                    1141  1142     6100.0"
      ]
     },
     "execution_count": 122,
     "metadata": {},
     "output_type": "execute_result"
    }
   ],
   "source": [
    "employment_industry = pd.read_csv('Data/vancouver_employment_by_industry.csv')\n",
    "employment_industry['year'] = employment_industry['year'].astype(int)\n",
    "employment_industry.head(10)"
   ]
  },
  {
   "cell_type": "markdown",
   "metadata": {},
   "source": [
    "**Room Revenues**"
   ]
  },
  {
   "cell_type": "code",
   "execution_count": 147,
   "metadata": {},
   "outputs": [
    {
     "data": {
      "text/html": [
       "<div>\n",
       "<style scoped>\n",
       "    .dataframe tbody tr th:only-of-type {\n",
       "        vertical-align: middle;\n",
       "    }\n",
       "\n",
       "    .dataframe tbody tr th {\n",
       "        vertical-align: top;\n",
       "    }\n",
       "\n",
       "    .dataframe thead th {\n",
       "        text-align: right;\n",
       "    }\n",
       "</style>\n",
       "<table border=\"1\" class=\"dataframe\">\n",
       "  <thead>\n",
       "    <tr style=\"text-align: right;\">\n",
       "      <th></th>\n",
       "      <th>year</th>\n",
       "      <th>month</th>\n",
       "      <th>region_code</th>\n",
       "      <th>acc_type</th>\n",
       "      <th>revenue</th>\n",
       "      <th>properties</th>\n",
       "      <th>rooms</th>\n",
       "    </tr>\n",
       "  </thead>\n",
       "  <tbody>\n",
       "    <tr>\n",
       "      <th>0</th>\n",
       "      <td>2000</td>\n",
       "      <td>1</td>\n",
       "      <td>DR01</td>\n",
       "      <td>TOT</td>\n",
       "      <td>7582000.0</td>\n",
       "      <td>345</td>\n",
       "      <td>14092</td>\n",
       "    </tr>\n",
       "    <tr>\n",
       "      <th>1</th>\n",
       "      <td>2000</td>\n",
       "      <td>2</td>\n",
       "      <td>DR01</td>\n",
       "      <td>TOT</td>\n",
       "      <td>10090000.0</td>\n",
       "      <td>374</td>\n",
       "      <td>14335</td>\n",
       "    </tr>\n",
       "    <tr>\n",
       "      <th>2</th>\n",
       "      <td>2000</td>\n",
       "      <td>3</td>\n",
       "      <td>DR01</td>\n",
       "      <td>TOT</td>\n",
       "      <td>13198000.0</td>\n",
       "      <td>401</td>\n",
       "      <td>14819</td>\n",
       "    </tr>\n",
       "    <tr>\n",
       "      <th>3</th>\n",
       "      <td>2000</td>\n",
       "      <td>4</td>\n",
       "      <td>DR01</td>\n",
       "      <td>TOT</td>\n",
       "      <td>15808000.0</td>\n",
       "      <td>423</td>\n",
       "      <td>15104</td>\n",
       "    </tr>\n",
       "    <tr>\n",
       "      <th>4</th>\n",
       "      <td>2000</td>\n",
       "      <td>5</td>\n",
       "      <td>DR01</td>\n",
       "      <td>TOT</td>\n",
       "      <td>21442000.0</td>\n",
       "      <td>468</td>\n",
       "      <td>15606</td>\n",
       "    </tr>\n",
       "  </tbody>\n",
       "</table>\n",
       "</div>"
      ],
      "text/plain": [
       "   year  month region_code acc_type     revenue properties  rooms\n",
       "0  2000      1        DR01      TOT   7582000.0        345  14092\n",
       "1  2000      2        DR01      TOT  10090000.0        374  14335\n",
       "2  2000      3        DR01      TOT  13198000.0        401  14819\n",
       "3  2000      4        DR01      TOT  15808000.0        423  15104\n",
       "4  2000      5        DR01      TOT  21442000.0        468  15606"
      ]
     },
     "execution_count": 147,
     "metadata": {},
     "output_type": "execute_result"
    }
   ],
   "source": [
    "# 2000 - 2010\n",
    "room_revenues_2010 = pd.read_csv('Data/vancouver_room_revenues_2000_2010.csv')\n",
    "room_revenues_2010['properties'] = room_revenues_2010['properties'].fillna(0)\n",
    "room_revenues_2010['year'] = room_revenues_2010['year'].astype(int)\n",
    "room_revenues_2010['rooms'] = room_revenues_2010['rooms'].fillna(0)\n",
    "room_revenues_2010['rooms'] = room_revenues_2010['rooms'].apply(lambda x : int(str(x).replace(',', '')))\n",
    "room_revenues_2010.head()"
   ]
  },
  {
   "cell_type": "code",
   "execution_count": 148,
   "metadata": {},
   "outputs": [
    {
     "data": {
      "text/html": [
       "<div>\n",
       "<style scoped>\n",
       "    .dataframe tbody tr th:only-of-type {\n",
       "        vertical-align: middle;\n",
       "    }\n",
       "\n",
       "    .dataframe tbody tr th {\n",
       "        vertical-align: top;\n",
       "    }\n",
       "\n",
       "    .dataframe thead th {\n",
       "        text-align: right;\n",
       "    }\n",
       "</style>\n",
       "<table border=\"1\" class=\"dataframe\">\n",
       "  <thead>\n",
       "    <tr style=\"text-align: right;\">\n",
       "      <th></th>\n",
       "      <th>year</th>\n",
       "      <th>month</th>\n",
       "      <th>revenue</th>\n",
       "      <th>rooms</th>\n",
       "    </tr>\n",
       "  </thead>\n",
       "  <tbody>\n",
       "    <tr>\n",
       "      <th>count</th>\n",
       "      <td>58212.000000</td>\n",
       "      <td>58212.000000</td>\n",
       "      <td>2.227900e+04</td>\n",
       "      <td>58212.000000</td>\n",
       "    </tr>\n",
       "    <tr>\n",
       "      <th>mean</th>\n",
       "      <td>2004.761905</td>\n",
       "      <td>6.357143</td>\n",
       "      <td>6.216831e+06</td>\n",
       "      <td>1631.562066</td>\n",
       "    </tr>\n",
       "    <tr>\n",
       "      <th>std</th>\n",
       "      <td>3.037957</td>\n",
       "      <td>3.449125</td>\n",
       "      <td>1.750290e+07</td>\n",
       "      <td>5773.003382</td>\n",
       "    </tr>\n",
       "    <tr>\n",
       "      <th>min</th>\n",
       "      <td>2000.000000</td>\n",
       "      <td>1.000000</td>\n",
       "      <td>8.000000e+03</td>\n",
       "      <td>0.000000</td>\n",
       "    </tr>\n",
       "    <tr>\n",
       "      <th>25%</th>\n",
       "      <td>2002.000000</td>\n",
       "      <td>3.000000</td>\n",
       "      <td>5.100000e+05</td>\n",
       "      <td>0.000000</td>\n",
       "    </tr>\n",
       "    <tr>\n",
       "      <th>50%</th>\n",
       "      <td>2005.000000</td>\n",
       "      <td>6.000000</td>\n",
       "      <td>1.287000e+06</td>\n",
       "      <td>324.000000</td>\n",
       "    </tr>\n",
       "    <tr>\n",
       "      <th>75%</th>\n",
       "      <td>2007.000000</td>\n",
       "      <td>9.000000</td>\n",
       "      <td>3.451500e+06</td>\n",
       "      <td>1068.000000</td>\n",
       "    </tr>\n",
       "    <tr>\n",
       "      <th>max</th>\n",
       "      <td>2010.000000</td>\n",
       "      <td>12.000000</td>\n",
       "      <td>2.637480e+08</td>\n",
       "      <td>92962.000000</td>\n",
       "    </tr>\n",
       "  </tbody>\n",
       "</table>\n",
       "</div>"
      ],
      "text/plain": [
       "               year         month       revenue         rooms\n",
       "count  58212.000000  58212.000000  2.227900e+04  58212.000000\n",
       "mean    2004.761905      6.357143  6.216831e+06   1631.562066\n",
       "std        3.037957      3.449125  1.750290e+07   5773.003382\n",
       "min     2000.000000      1.000000  8.000000e+03      0.000000\n",
       "25%     2002.000000      3.000000  5.100000e+05      0.000000\n",
       "50%     2005.000000      6.000000  1.287000e+06    324.000000\n",
       "75%     2007.000000      9.000000  3.451500e+06   1068.000000\n",
       "max     2010.000000     12.000000  2.637480e+08  92962.000000"
      ]
     },
     "execution_count": 148,
     "metadata": {},
     "output_type": "execute_result"
    }
   ],
   "source": [
    "room_revenues_2010.describe()"
   ]
  },
  {
   "cell_type": "code",
   "execution_count": 149,
   "metadata": {},
   "outputs": [
    {
     "data": {
      "image/png": "[encoded data removed]",
      "text/plain": [
       "<Figure size 432x288 with 1 Axes>"
      ]
     },
     "metadata": {
      "needs_background": "light"
     },
     "output_type": "display_data"
    }
   ],
   "source": [
    "room_revenues_2010_agg_year = room_revenues_2010.groupby(['year']).agg(sum)\n",
    "plt.plot(room_revenues_2010_agg_year['rooms'])\n",
    "plt.xlabel('Year'); plt.ylabel('Rooms');\n",
    "plt.show()"
   ]
  },
  {
   "cell_type": "code",
   "execution_count": 150,
   "metadata": {},
   "outputs": [
    {
     "data": {
      "image/png": "[encoded data removed]",
      "text/plain": [
       "<Figure size 432x288 with 1 Axes>"
      ]
     },
     "metadata": {
      "needs_background": "light"
     },
     "output_type": "display_data"
    }
   ],
   "source": [
    "room_revenues_2010_agg_year = room_revenues_2010.groupby(['year']).agg(sum)\n",
    "plt.plot(room_revenues_2010_agg_year['revenue'])\n",
    "plt.xlabel('Year'); plt.ylabel('Revenue');\n",
    "plt.show()"
   ]
  },
  {
   "cell_type": "code",
   "execution_count": 151,
   "metadata": {},
   "outputs": [
    {
     "data": {
      "image/png": "[encoded data removed]",
      "text/plain": [
       "<Figure size 432x288 with 1 Axes>"
      ]
     },
     "metadata": {
      "needs_background": "light"
     },
     "output_type": "display_data"
    }
   ],
   "source": [
    "room_revenues_2010_agg_year.boxplot(column='revenue')\n",
    "plt.ylabel('Revenue');"
   ]
  },
  {
   "cell_type": "code",
   "execution_count": 152,
   "metadata": {},
   "outputs": [
    {
     "data": {
      "text/html": [
       "<div>\n",
       "<style scoped>\n",
       "    .dataframe tbody tr th:only-of-type {\n",
       "        vertical-align: middle;\n",
       "    }\n",
       "\n",
       "    .dataframe tbody tr th {\n",
       "        vertical-align: top;\n",
       "    }\n",
       "\n",
       "    .dataframe thead th {\n",
       "        text-align: right;\n",
       "    }\n",
       "</style>\n",
       "<table border=\"1\" class=\"dataframe\">\n",
       "  <thead>\n",
       "    <tr style=\"text-align: right;\">\n",
       "      <th></th>\n",
       "      <th>year</th>\n",
       "      <th>month</th>\n",
       "      <th>region_code</th>\n",
       "      <th>region_name</th>\n",
       "      <th>revenue</th>\n",
       "    </tr>\n",
       "  </thead>\n",
       "  <tbody>\n",
       "    <tr>\n",
       "      <th>0</th>\n",
       "      <td>2010</td>\n",
       "      <td>1</td>\n",
       "      <td>UC39</td>\n",
       "      <td>Campbell River</td>\n",
       "      <td>0.0</td>\n",
       "    </tr>\n",
       "    <tr>\n",
       "      <th>1</th>\n",
       "      <td>2010</td>\n",
       "      <td>2</td>\n",
       "      <td>UC39</td>\n",
       "      <td>Campbell River</td>\n",
       "      <td>0.0</td>\n",
       "    </tr>\n",
       "    <tr>\n",
       "      <th>2</th>\n",
       "      <td>2010</td>\n",
       "      <td>3</td>\n",
       "      <td>UC39</td>\n",
       "      <td>Campbell River</td>\n",
       "      <td>0.0</td>\n",
       "    </tr>\n",
       "    <tr>\n",
       "      <th>3</th>\n",
       "      <td>2010</td>\n",
       "      <td>4</td>\n",
       "      <td>UC39</td>\n",
       "      <td>Campbell River</td>\n",
       "      <td>0.0</td>\n",
       "    </tr>\n",
       "    <tr>\n",
       "      <th>4</th>\n",
       "      <td>2010</td>\n",
       "      <td>5</td>\n",
       "      <td>UC39</td>\n",
       "      <td>Campbell River</td>\n",
       "      <td>0.0</td>\n",
       "    </tr>\n",
       "  </tbody>\n",
       "</table>\n",
       "</div>"
      ],
      "text/plain": [
       "   year  month region_code     region_name  revenue\n",
       "0  2010      1        UC39  Campbell River      0.0\n",
       "1  2010      2        UC39  Campbell River      0.0\n",
       "2  2010      3        UC39  Campbell River      0.0\n",
       "3  2010      4        UC39  Campbell River      0.0\n",
       "4  2010      5        UC39  Campbell River      0.0"
      ]
     },
     "execution_count": 152,
     "metadata": {},
     "output_type": "execute_result"
    }
   ],
   "source": [
    "# 2010 - 2019\n",
    "room_revenues_2019 = pd.read_csv('Data/vancouver_room_revenues_2010_2019.csv')\n",
    "room_revenues_2019['year'] = room_revenues_2019['year'].astype(int)\n",
    "room_revenues_2019['month'] = room_revenues_2019['month'].astype(int)\n",
    "room_revenues_2019['revenue'] = room_revenues_2019['revenue'].fillna(0)\n",
    "room_revenues_2019.head()"
   ]
  },
  {
   "cell_type": "code",
   "execution_count": 110,
   "metadata": {},
   "outputs": [
    {
     "data": {
      "image/png": "[encoded data removed]",
      "text/plain": [
       "<Figure size 432x288 with 1 Axes>"
      ]
     },
     "metadata": {
      "needs_background": "light"
     },
     "output_type": "display_data"
    }
   ],
   "source": [
    "room_revenues_2019_agg_year = room_revenues_2019.groupby(['year']).agg(sum)\n",
    "plt.plot(room_revenues_2019_agg_year['revenue'])\n",
    "plt.xlabel('Year'); plt.ylabel('Revenue');\n",
    "plt.show()"
   ]
  },
  {
   "cell_type": "code",
   "execution_count": 153,
   "metadata": {},
   "outputs": [
    {
     "data": {
      "image/png": "[encoded data removed]",
      "text/plain": [
       "<Figure size 432x288 with 1 Axes>"
      ]
     },
     "metadata": {
      "needs_background": "light"
     },
     "output_type": "display_data"
    }
   ],
   "source": [
    "room_revenues_2019_agg_year.boxplot(column='revenue')\n",
    "plt.ylabel('Revenue');"
   ]
  },
  {
   "cell_type": "markdown",
   "metadata": {},
   "source": [
    "**Small Business**"
   ]
  },
  {
   "cell_type": "code",
   "execution_count": 172,
   "metadata": {},
   "outputs": [
    {
     "data": {
      "text/html": [
       "<div>\n",
       "<style scoped>\n",
       "    .dataframe tbody tr th:only-of-type {\n",
       "        vertical-align: middle;\n",
       "    }\n",
       "\n",
       "    .dataframe tbody tr th {\n",
       "        vertical-align: top;\n",
       "    }\n",
       "\n",
       "    .dataframe thead th {\n",
       "        text-align: right;\n",
       "    }\n",
       "</style>\n",
       "<table border=\"1\" class=\"dataframe\">\n",
       "  <thead>\n",
       "    <tr style=\"text-align: right;\">\n",
       "      <th></th>\n",
       "      <th>year</th>\n",
       "      <th>region_code</th>\n",
       "      <th>value</th>\n",
       "    </tr>\n",
       "  </thead>\n",
       "  <tbody>\n",
       "    <tr>\n",
       "      <th>0</th>\n",
       "      <td>2007</td>\n",
       "      <td>DR01</td>\n",
       "      <td>79200</td>\n",
       "    </tr>\n",
       "    <tr>\n",
       "      <th>1</th>\n",
       "      <td>2008</td>\n",
       "      <td>DR01</td>\n",
       "      <td>80300</td>\n",
       "    </tr>\n",
       "    <tr>\n",
       "      <th>2</th>\n",
       "      <td>2009</td>\n",
       "      <td>DR01</td>\n",
       "      <td>82400</td>\n",
       "    </tr>\n",
       "    <tr>\n",
       "      <th>3</th>\n",
       "      <td>2010</td>\n",
       "      <td>DR01</td>\n",
       "      <td>83400</td>\n",
       "    </tr>\n",
       "    <tr>\n",
       "      <th>4</th>\n",
       "      <td>2011</td>\n",
       "      <td>DR01</td>\n",
       "      <td>77500</td>\n",
       "    </tr>\n",
       "  </tbody>\n",
       "</table>\n",
       "</div>"
      ],
      "text/plain": [
       "   year region_code  value\n",
       "0  2007        DR01  79200\n",
       "1  2008        DR01  80300\n",
       "2  2009        DR01  82400\n",
       "3  2010        DR01  83400\n",
       "4  2011        DR01  77500"
      ]
     },
     "execution_count": 172,
     "metadata": {},
     "output_type": "execute_result"
    }
   ],
   "source": [
    "small_business = pd.read_csv('Data/vancouver_small_business_by_region.csv')\n",
    "small_business['value'] = small_business['value'].fillna(0)\n",
    "small_business['value'] = small_business['value'].apply(lambda x : int(str(x).replace(',', '')))\n",
    "small_business.head()"
   ]
  },
  {
   "cell_type": "code",
   "execution_count": 173,
   "metadata": {},
   "outputs": [
    {
     "data": {
      "text/plain": [
       "count        84.000000\n",
       "mean      66526.190476\n",
       "std       93202.851861\n",
       "min        6200.000000\n",
       "25%        9200.000000\n",
       "50%       16000.000000\n",
       "75%       78400.000000\n",
       "max      330100.000000\n",
       "Name: value, dtype: float64"
      ]
     },
     "execution_count": 173,
     "metadata": {},
     "output_type": "execute_result"
    }
   ],
   "source": [
    "small_business['value'].describe()"
   ]
  },
  {
   "cell_type": "code",
   "execution_count": 175,
   "metadata": {},
   "outputs": [
    {
     "data": {
      "image/png": "[encoded data removed]",
      "text/plain": [
       "<Figure size 432x288 with 1 Axes>"
      ]
     },
     "metadata": {
      "needs_background": "light"
     },
     "output_type": "display_data"
    }
   ],
   "source": [
    "small_business_agg_year = small_business.groupby(['year']).agg(sum)\n",
    "plt.plot(small_business_agg_year['value'])\n",
    "plt.xlabel('Year'); plt.ylabel('Business Value');\n",
    "plt.show()"
   ]
  },
  {
   "cell_type": "markdown",
   "metadata": {},
   "source": [
    "**Toursim Indicators**"
   ]
  },
  {
   "cell_type": "code",
   "execution_count": 160,
   "metadata": {},
   "outputs": [
    {
     "data": {
      "text/html": [
       "<div>\n",
       "<style scoped>\n",
       "    .dataframe tbody tr th:only-of-type {\n",
       "        vertical-align: middle;\n",
       "    }\n",
       "\n",
       "    .dataframe tbody tr th {\n",
       "        vertical-align: top;\n",
       "    }\n",
       "\n",
       "    .dataframe thead th {\n",
       "        text-align: right;\n",
       "    }\n",
       "</style>\n",
       "<table border=\"1\" class=\"dataframe\">\n",
       "  <thead>\n",
       "    <tr style=\"text-align: right;\">\n",
       "      <th></th>\n",
       "      <th>year</th>\n",
       "      <th>revenue</th>\n",
       "      <th>GDP</th>\n",
       "      <th>real_GDP</th>\n",
       "      <th>implicit_price_index</th>\n",
       "      <th>employment</th>\n",
       "      <th>wages_and_salaries</th>\n",
       "      <th>consumption_taxes</th>\n",
       "      <th>employment_vcm</th>\n",
       "      <th>employment_vi</th>\n",
       "      <th>employment_to</th>\n",
       "      <th>employment_nbc</th>\n",
       "      <th>employment_bcr</th>\n",
       "      <th>employment_ccc</th>\n",
       "    </tr>\n",
       "  </thead>\n",
       "  <tbody>\n",
       "    <tr>\n",
       "      <th>0</th>\n",
       "      <td>2000</td>\n",
       "      <td>9,350</td>\n",
       "      <td>4,679</td>\n",
       "      <td>5,085</td>\n",
       "      <td>91.4</td>\n",
       "      <td>96.7</td>\n",
       "      <td>2,801</td>\n",
       "      <td>855</td>\n",
       "      <td>60,600</td>\n",
       "      <td>15,300</td>\n",
       "      <td>9,500</td>\n",
       "      <td>5,400</td>\n",
       "      <td>3,900</td>\n",
       "      <td>2,000</td>\n",
       "    </tr>\n",
       "    <tr>\n",
       "      <th>1</th>\n",
       "      <td>2001</td>\n",
       "      <td>9,448</td>\n",
       "      <td>4,857</td>\n",
       "      <td>5,102</td>\n",
       "      <td>94.6</td>\n",
       "      <td>104.2</td>\n",
       "      <td>2,968</td>\n",
       "      <td>861</td>\n",
       "      <td>67,300</td>\n",
       "      <td>15,700</td>\n",
       "      <td>9,300</td>\n",
       "      <td>5,400</td>\n",
       "      <td>4,500</td>\n",
       "      <td>2,100</td>\n",
       "    </tr>\n",
       "    <tr>\n",
       "      <th>2</th>\n",
       "      <td>2002</td>\n",
       "      <td>9,754</td>\n",
       "      <td>4,931</td>\n",
       "      <td>5,147</td>\n",
       "      <td>95.2</td>\n",
       "      <td>104.2</td>\n",
       "      <td>2,927</td>\n",
       "      <td>943</td>\n",
       "      <td>64,800</td>\n",
       "      <td>17,700</td>\n",
       "      <td>10,400</td>\n",
       "      <td>5,300</td>\n",
       "      <td>4,200</td>\n",
       "      <td>1,800</td>\n",
       "    </tr>\n",
       "    <tr>\n",
       "      <th>3</th>\n",
       "      <td>2003</td>\n",
       "      <td>9,721</td>\n",
       "      <td>4,703</td>\n",
       "      <td>4,911</td>\n",
       "      <td>95.2</td>\n",
       "      <td>105.8</td>\n",
       "      <td>2,945</td>\n",
       "      <td>989</td>\n",
       "      <td>67,200</td>\n",
       "      <td>16,400</td>\n",
       "      <td>11,300</td>\n",
       "      <td>5,100</td>\n",
       "      <td>4,000</td>\n",
       "      <td>1,800</td>\n",
       "    </tr>\n",
       "    <tr>\n",
       "      <th>4</th>\n",
       "      <td>2004</td>\n",
       "      <td>10,595</td>\n",
       "      <td>5,134</td>\n",
       "      <td>5,195</td>\n",
       "      <td>98.4</td>\n",
       "      <td>107.6</td>\n",
       "      <td>3,128</td>\n",
       "      <td>1,047</td>\n",
       "      <td>67,100</td>\n",
       "      <td>19,100</td>\n",
       "      <td>11,000</td>\n",
       "      <td>5,200</td>\n",
       "      <td>3,200</td>\n",
       "      <td>2,000</td>\n",
       "    </tr>\n",
       "  </tbody>\n",
       "</table>\n",
       "</div>"
      ],
      "text/plain": [
       "   year revenue    GDP real_GDP  implicit_price_index  employment  \\\n",
       "0  2000   9,350  4,679    5,085                  91.4        96.7   \n",
       "1  2001   9,448  4,857    5,102                  94.6       104.2   \n",
       "2  2002   9,754  4,931    5,147                  95.2       104.2   \n",
       "3  2003   9,721  4,703    4,911                  95.2       105.8   \n",
       "4  2004  10,595  5,134    5,195                  98.4       107.6   \n",
       "\n",
       "  wages_and_salaries consumption_taxes employment_vcm employment_vi  \\\n",
       "0              2,801               855         60,600        15,300   \n",
       "1              2,968               861         67,300        15,700   \n",
       "2              2,927               943         64,800        17,700   \n",
       "3              2,945               989         67,200        16,400   \n",
       "4              3,128             1,047         67,100        19,100   \n",
       "\n",
       "  employment_to employment_nbc employment_bcr employment_ccc  \n",
       "0         9,500          5,400          3,900          2,000  \n",
       "1         9,300          5,400          4,500          2,100  \n",
       "2        10,400          5,300          4,200          1,800  \n",
       "3        11,300          5,100          4,000          1,800  \n",
       "4        11,000          5,200          3,200          2,000  "
      ]
     },
     "execution_count": 160,
     "metadata": {},
     "output_type": "execute_result"
    }
   ],
   "source": [
    "tourism = pd.read_csv('Data/vancouver_turism_indicators.csv')\n",
    "tourism.head()"
   ]
  },
  {
   "cell_type": "code",
   "execution_count": 161,
   "metadata": {},
   "outputs": [
    {
     "name": "stdout",
     "output_type": "stream",
     "text": [
      "<class 'pandas.core.frame.DataFrame'>\n",
      "RangeIndex: 16 entries, 0 to 15\n",
      "Data columns (total 14 columns):\n",
      " #   Column                Non-Null Count  Dtype  \n",
      "---  ------                --------------  -----  \n",
      " 0   year                  16 non-null     int64  \n",
      " 1   revenue               16 non-null     object \n",
      " 2   GDP                   16 non-null     object \n",
      " 3   real_GDP              16 non-null     object \n",
      " 4   implicit_price_index  16 non-null     float64\n",
      " 5   employment            16 non-null     float64\n",
      " 6   wages_and_salaries    16 non-null     object \n",
      " 7   consumption_taxes     16 non-null     object \n",
      " 8   employment_vcm        16 non-null     object \n",
      " 9   employment_vi         16 non-null     object \n",
      " 10  employment_to         16 non-null     object \n",
      " 11  employment_nbc        16 non-null     object \n",
      " 12  employment_bcr        16 non-null     object \n",
      " 13  employment_ccc        16 non-null     object \n",
      "dtypes: float64(2), int64(1), object(11)\n",
      "memory usage: 1.9+ KB\n"
     ]
    }
   ],
   "source": [
    "tourism.info()"
   ]
  },
  {
   "cell_type": "code",
   "execution_count": 183,
   "metadata": {},
   "outputs": [
    {
     "data": {
      "image/png": "[encoded data removed]",
      "text/plain": [
       "<Figure size 432x288 with 1 Axes>"
      ]
     },
     "metadata": {
      "needs_background": "light"
     },
     "output_type": "display_data"
    }
   ],
   "source": [
    "plt.scatter(tourism['year'], tourism['revenue'])\n",
    "plt.xlabel('Year'); plt.ylabel('Revenue');\n",
    "plt.show()"
   ]
  },
  {
   "cell_type": "code",
   "execution_count": 184,
   "metadata": {},
   "outputs": [
    {
     "data": {
      "image/png": "[encoded data removed]",
      "text/plain": [
       "<Figure size 432x288 with 1 Axes>"
      ]
     },
     "metadata": {
      "needs_background": "light"
     },
     "output_type": "display_data"
    }
   ],
   "source": [
    "plt.scatter(tourism['year'], tourism['GDP'])\n",
    "plt.xlabel('Year'); plt.ylabel('GDP');\n",
    "plt.show()"
   ]
  },
  {
   "cell_type": "code",
   "execution_count": 185,
   "metadata": {},
   "outputs": [
    {
     "data": {
      "image/png": "[encoded data removed]",
      "text/plain": [
       "<Figure size 432x288 with 1 Axes>"
      ]
     },
     "metadata": {
      "needs_background": "light"
     },
     "output_type": "display_data"
    }
   ],
   "source": [
    "plt.scatter(tourism['year'], tourism['employment'])\n",
    "plt.xlabel('Year'); plt.ylabel('Employment');\n",
    "plt.show()"
   ]
  },
  {
   "cell_type": "markdown",
   "metadata": {},
   "source": [
    "**Visits**"
   ]
  },
  {
   "cell_type": "code",
   "execution_count": 167,
   "metadata": {},
   "outputs": [
    {
     "data": {
      "text/html": [
       "<div>\n",
       "<style scoped>\n",
       "    .dataframe tbody tr th:only-of-type {\n",
       "        vertical-align: middle;\n",
       "    }\n",
       "\n",
       "    .dataframe tbody tr th {\n",
       "        vertical-align: top;\n",
       "    }\n",
       "\n",
       "    .dataframe thead th {\n",
       "        text-align: right;\n",
       "    }\n",
       "</style>\n",
       "<table border=\"1\" class=\"dataframe\">\n",
       "  <thead>\n",
       "    <tr style=\"text-align: right;\">\n",
       "      <th></th>\n",
       "      <th>year</th>\n",
       "      <th>month</th>\n",
       "      <th>value</th>\n",
       "    </tr>\n",
       "  </thead>\n",
       "  <tbody>\n",
       "    <tr>\n",
       "      <th>0</th>\n",
       "      <td>1994</td>\n",
       "      <td>1</td>\n",
       "      <td>320101</td>\n",
       "    </tr>\n",
       "    <tr>\n",
       "      <th>1</th>\n",
       "      <td>1994</td>\n",
       "      <td>2</td>\n",
       "      <td>315660</td>\n",
       "    </tr>\n",
       "    <tr>\n",
       "      <th>2</th>\n",
       "      <td>1994</td>\n",
       "      <td>3</td>\n",
       "      <td>429018</td>\n",
       "    </tr>\n",
       "    <tr>\n",
       "      <th>3</th>\n",
       "      <td>1994</td>\n",
       "      <td>4</td>\n",
       "      <td>443933</td>\n",
       "    </tr>\n",
       "    <tr>\n",
       "      <th>4</th>\n",
       "      <td>1994</td>\n",
       "      <td>5</td>\n",
       "      <td>550832</td>\n",
       "    </tr>\n",
       "  </tbody>\n",
       "</table>\n",
       "</div>"
      ],
      "text/plain": [
       "   year  month   value\n",
       "0  1994      1  320101\n",
       "1  1994      2  315660\n",
       "2  1994      3  429018\n",
       "3  1994      4  443933\n",
       "4  1994      5  550832"
      ]
     },
     "execution_count": 167,
     "metadata": {},
     "output_type": "execute_result"
    }
   ],
   "source": [
    "visits = pd.read_csv('Data/vancouver_visits.csv')\n",
    "visits['value'] = visits['value'].fillna(0)\n",
    "visits.head()"
   ]
  },
  {
   "cell_type": "code",
   "execution_count": 171,
   "metadata": {},
   "outputs": [
    {
     "data": {
      "image/png": "[encoded data removed]",
      "text/plain": [
       "<Figure size 432x288 with 1 Axes>"
      ]
     },
     "metadata": {
      "needs_background": "light"
     },
     "output_type": "display_data"
    }
   ],
   "source": [
    "plt.plot(visits['value'])\n",
    "plt.xlabel('Year'); plt.ylabel('Number of Visits');\n",
    "plt.show()"
   ]
  },
  {
   "cell_type": "code",
   "execution_count": 179,
   "metadata": {},
   "outputs": [
    {
     "data": {
      "image/png": "[encoded data removed]",
      "text/plain": [
       "<Figure size 432x288 with 1 Axes>"
      ]
     },
     "metadata": {
      "needs_background": "light"
     },
     "output_type": "display_data"
    }
   ],
   "source": [
    "visits_agg_year = visits.groupby(['year']).agg(sum)\n",
    "plt.plot(visits_agg_year['value'])\n",
    "plt.xlabel('Year'); plt.ylabel('Number of Visits');\n",
    "plt.show()"
   ]
  }
 ],
 "metadata": {
  "kernelspec": {
   "display_name": "Python 3",
   "language": "python",
   "name": "python3"
  },
  "language_info": {
   "codemirror_mode": {
    "name": "ipython",
    "version": 3
   },
   "file_extension": ".py",
   "mimetype": "text/x-python",
   "name": "python",
   "nbconvert_exporter": "python",
   "pygments_lexer": "ipython3",
   "version": "3.7.6"
  }
 },
 "nbformat": 4,
 "nbformat_minor": 4
}
